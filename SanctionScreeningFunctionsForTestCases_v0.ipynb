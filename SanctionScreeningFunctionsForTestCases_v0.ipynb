{
 "cells": [
  {
   "cell_type": "markdown",
   "metadata": {},
   "source": [
    "# Sample Functions"
   ]
  },
  {
   "cell_type": "code",
   "execution_count": 16,
   "metadata": {},
   "outputs": [],
   "source": [
    "import numpy as np\n",
    "import pandas as pd"
   ]
  },
  {
   "cell_type": "markdown",
   "metadata": {},
   "source": [
    "Function: Using initials instead of full name"
   ]
  },
  {
   "cell_type": "code",
   "execution_count": 101,
   "metadata": {},
   "outputs": [
    {
     "data": {
      "text/plain": [
       "('S', 'B')"
      ]
     },
     "execution_count": 101,
     "metadata": {},
     "output_type": "execute_result"
    }
   ],
   "source": [
    "name = \"Stuart Brannan\"\n",
    "def search_initials(name):\n",
    "    sep_name = name.split(\" \")\n",
    "    first_name = sep_name[0]\n",
    "    last_name = sep_name[-1]\n",
    "    first_initial = first_name[0]\n",
    "    second_initial = last_name[0]\n",
    "    return (first_initial, second_initial)\n",
    "\n",
    "search_initials(name)\n",
    "    "
   ]
  },
  {
   "cell_type": "markdown",
   "metadata": {},
   "source": [
    "Function: Replacing Similar Characters "
   ]
  },
  {
   "cell_type": "code",
   "execution_count": 103,
   "metadata": {},
   "outputs": [
    {
     "data": {
      "text/plain": [
       "'lance lrmstrong'"
      ]
     },
     "execution_count": 103,
     "metadata": {},
     "output_type": "execute_result"
    }
   ],
   "source": [
    "name = \"Iance armstrong\"\n",
    "def replace_simchars(name):\n",
    "    new_name = name.replace(\"I\",\"l\")\n",
    "    return new_name\n",
    "\n",
    "replace_simchars(name)\n",
    "    \n",
    "            \n",
    "    \n",
    "    "
   ]
  },
  {
   "cell_type": "code",
   "execution_count": 222,
   "metadata": {},
   "outputs": [],
   "source": [
    "def replace_only(name,orig_char,new_char):\n",
    "\n",
    "    # Find the original characters\n",
    "    index_orig_char = [i for i,x in enumerate(name) if x == orig_char]\n",
    "    if index_orig_char:\n",
    "        index_to_change = np.random.choice(index_orig_char)\n",
    "        # Replace one character and join back\n",
    "        new_name = name[:index_to_change] + new_char + name[1+index_to_change:] \n",
    "        return new_name\n",
    "    else:\n",
    "        return name"
   ]
  },
  {
   "cell_type": "code",
   "execution_count": 223,
   "metadata": {},
   "outputs": [
    {
     "data": {
      "text/plain": [
       "'Perre'"
      ]
     },
     "execution_count": 223,
     "metadata": {},
     "output_type": "execute_result"
    }
   ],
   "source": [
    "replace_only(\"Perre\",\"rr\",\"r\")"
   ]
  },
  {
   "cell_type": "code",
   "execution_count": 218,
   "metadata": {},
   "outputs": [],
   "source": [
    "functions_list = pd.read_csv(\"functions_list.txt\",engine=\"python\",header=None).iloc[:,0].values"
   ]
  },
  {
   "cell_type": "code",
   "execution_count": 219,
   "metadata": {},
   "outputs": [],
   "source": [
    "character_replacement_func_list = [x for x in functions_list if \"replace_\" in x]"
   ]
  },
  {
   "cell_type": "code",
   "execution_count": 220,
   "metadata": {},
   "outputs": [
    {
     "name": "stdout",
     "output_type": "stream",
     "text": [
      "original char: s new char: z new name: Juan Perez\n",
      "original char: z new char: s new name: Juan Peres\n",
      "original char: s new char: c new name: Juan Perez\n",
      "original char: c new char: s new name: Juan Perez\n",
      "original char: c new char: z new name: Juan Perez\n",
      "original char: z new char: c new name: Juan Perec\n",
      "original char: u new char: o new name: Joan Perez\n",
      "original char: o new char: u new name: Juan Perez\n",
      "original char: ua new char: o new name: Juan Perez\n",
      "original char: o new char: ua new name: Juan Perez\n",
      "original char: ph new char: f new name: Juan Perez\n",
      "original char: f new char: ph new name: Juan Perez\n",
      "original char: y new char: i new name: Juan Perez\n",
      "original char: i new char: y new name: Juan Perez\n",
      "original char: d new char: th new name: Juan Perez\n",
      "original char: th new char: d new name: Juan Perez\n",
      "original char: v new char: w new name: Juan Perez\n",
      "original char: w new char: v new name: Juan Perez\n",
      "original char: k new char: q new name: Juan Perez\n",
      "original char: q new char: k new name: Juan Perez\n",
      "original char: v new char: b new name: Juan Perez\n",
      "original char: b new char: v new name: Juan Perez\n",
      "original char: a new char: e new name: Juen Perez\n",
      "original char: e new char: a new name: Juan Peraz\n",
      "original char: x new char: j new name: Juan Perez\n",
      "original char: j new char: x new name: Juan Perez\n",
      "original char: v new char: f new name: Juan Perez\n",
      "original char: f new char: v new name: Juan Perez\n",
      "original char: c new char: k new name: Juan Perez\n",
      "original char: k new char: c new name: Juan Perez\n",
      "original char: t new char: y new name: Juan Perez\n",
      "original char: y new char: t new name: Juan Perez\n",
      "original char: o new char: p new name: Juan Perez\n",
      "original char: p new char: o new name: Juan Perez\n",
      "original char: d new char: e new name: Juan Perez\n",
      "original char: e new char: d new name: Juan Perdz\n",
      "original char: f new char: d new name: Juan Perez\n",
      "original char: d new char: f new name: Juan Perez\n",
      "original char: r new char: f new name: Juan Pefez\n",
      "original char: f new char: r new name: Juan Perez\n",
      "original char: e new char: r new name: Juan Prrez\n",
      "original char: r new char: e new name: Juan Peeez\n",
      "original char: n new char: ñ new name: Juañ Perez\n",
      "original char: ñ new char: n new name: Juan Perez\n"
     ]
    }
   ],
   "source": [
    "for func in character_replacement_func_list:\n",
    "    orig_char, new_char = func.split(\"_\")[1],func.split(\"_\")[2]\n",
    "    print(\"original char:\",orig_char,\n",
    "          \"new char:\",new_char,\n",
    "          \"new name:\",\n",
    "          replace_only(name,orig_char, new_char))"
   ]
  },
  {
   "cell_type": "code",
   "execution_count": 145,
   "metadata": {},
   "outputs": [
    {
     "data": {
      "text/plain": [
       "'Juan Pierez'"
      ]
     },
     "execution_count": 145,
     "metadata": {},
     "output_type": "execute_result"
    }
   ],
   "source": [
    "name = \"Juan Perez\"\n",
    "orig_char = \"e\"\n",
    "new_char  = \"i\"\n",
    "\n",
    "replace_only(name,orig_char,new_char)"
   ]
  },
  {
   "cell_type": "code",
   "execution_count": 113,
   "metadata": {},
   "outputs": [
    {
     "data": {
      "text/plain": [
       "'Juan Pierez'"
      ]
     },
     "execution_count": 113,
     "metadata": {},
     "output_type": "execute_result"
    }
   ],
   "source": []
  },
  {
   "cell_type": "code",
   "execution_count": 106,
   "metadata": {},
   "outputs": [
    {
     "data": {
      "text/plain": [
       "[6, 8]"
      ]
     },
     "execution_count": 106,
     "metadata": {},
     "output_type": "execute_result"
    }
   ],
   "source": [
    "index_orig_char"
   ]
  },
  {
   "cell_type": "markdown",
   "metadata": {},
   "source": [
    "Function: Phonetic Replacement "
   ]
  },
  {
   "cell_type": "code",
   "execution_count": 31,
   "metadata": {},
   "outputs": [
    {
     "data": {
      "text/plain": [
       "'Katy Perry'"
      ]
     },
     "execution_count": 31,
     "metadata": {},
     "output_type": "execute_result"
    }
   ],
   "source": [
    "#note: going to have to control for errors that occur when for example a letter you want to replace comes up twice or something.\n",
    "#Other possible errors: Do you want to replace letters at the end of the first name, last name, or both? Which name does the \n",
    "#person actuallly use for their last name? etc. Maybe incorporate elements from the function he created. \n",
    "\n",
    "name = \"Katie Perry\"\n",
    "\n",
    "def phonetic_repl(name):\n",
    "    sep_name = name.split(\" \")\n",
    "    first_name = sep_name[0]\n",
    "    if first_name[-2:] == \"ie\":                     #Ex: Katie Perry \n",
    "        new_name = name.replace(\"ie\",\"y\")\n",
    "        return new_name\n",
    "    if \"ew\" in first_name:                          #Ex: Stewart Brannan\n",
    "        new_name = name.replace(\"ew\",\"u\")\n",
    "        return new_name\n",
    "    if name[-2:] == \"ph\":                             \n",
    "        new_name = name.replace(\"ph\",\"f\")           \n",
    "        return new_name\n",
    "    else:\n",
    "        return name \n",
    "\n",
    "phonetic_repl(name)\n"
   ]
  },
  {
   "cell_type": "code",
   "execution_count": null,
   "metadata": {},
   "outputs": [],
   "source": []
  },
  {
   "cell_type": "markdown",
   "metadata": {},
   "source": [
    "Function: Character Extension"
   ]
  },
  {
   "cell_type": "code",
   "execution_count": 29,
   "metadata": {},
   "outputs": [
    {
     "data": {
      "text/plain": [
       "'John Belle'"
      ]
     },
     "execution_count": 29,
     "metadata": {},
     "output_type": "execute_result"
    }
   ],
   "source": [
    "name = \"John Bell\"\n",
    "def char_exten(name): \n",
    "    if name[-1] == \"r\":                           #use example of Moor \n",
    "        name_ext = name + \"e\"\n",
    "        return name_ext\n",
    "    if (name[-1] == \"l\" and name[-2] != \"l\"):     #use example of Mithcel \n",
    "        name_ext = name + \"l\"\n",
    "        return name_ext\n",
    "    if name[-2:] == \"ll\":                          #use example of Bell\n",
    "        name_ext = name + \"e\"                     \n",
    "        return name_ext\n",
    "    else:\n",
    "        return name \n",
    "\n",
    "char_exten(name)"
   ]
  },
  {
   "cell_type": "markdown",
   "metadata": {},
   "source": [
    "Function: Character Replacement "
   ]
  },
  {
   "cell_type": "code",
   "execution_count": null,
   "metadata": {},
   "outputs": [],
   "source": [
    "#See sanctions screening tool file \n",
    "    "
   ]
  },
  {
   "cell_type": "markdown",
   "metadata": {},
   "source": [
    "Function: Character Reduction"
   ]
  },
  {
   "cell_type": "code",
   "execution_count": 47,
   "metadata": {},
   "outputs": [
    {
     "data": {
      "text/plain": [
       "'Patterso'"
      ]
     },
     "execution_count": 47,
     "metadata": {},
     "output_type": "execute_result"
    }
   ],
   "source": [
    "name = \"Patterson\"\n",
    "def char_reduct(name):\n",
    "    if (name[-1] == \"s\" or \"e\" or \"t\"):               #Ex: Edwards, Greene, Elliott\n",
    "        new_name = name[:-1]\n",
    "        return(new_name)\n",
    "    if \"tt\" in name:       #<-- fix this. why is the first thing being applied?             #Ex: Patterson \n",
    "        new_name = name.replace(\"tt\",\"t\")\n",
    "        return(new_name) \n",
    "    else:\n",
    "        return name \n",
    "    \n",
    "char_reduct(name) "
   ]
  },
  {
   "cell_type": "markdown",
   "metadata": {},
   "source": [
    "Function: Transposition"
   ]
  },
  {
   "cell_type": "code",
   "execution_count": 54,
   "metadata": {},
   "outputs": [
    {
     "data": {
      "text/plain": [
       "'Chris Johnson'"
      ]
     },
     "execution_count": 54,
     "metadata": {},
     "output_type": "execute_result"
    }
   ],
   "source": [
    "name = \"Chris Johnsno\"\n",
    "def spell_correct(name):\n",
    "    if name[-2:]==\"ei\":                        #Barrei --> Barrie  \n",
    "        new_name = name[:-2] + \"ie\"\n",
    "        return new_name \n",
    "    if name[-2:] == \"ht\":                      #Smiht --> Smith \n",
    "        new_name = name[:-2] + \"th\"\n",
    "        return new_name\n",
    "    if name[-3:] == \"sno\":                    #Johnsno --> Johnson \n",
    "        new_name = name[:-3] + \"son\"\n",
    "        return new_name\n",
    "    else:\n",
    "        return name \n",
    "\n",
    "spell_correct(name) \n",
    "        "
   ]
  },
  {
   "cell_type": "code",
   "execution_count": null,
   "metadata": {},
   "outputs": [],
   "source": [
    "Function: Use of Double Characters "
   ]
  },
  {
   "cell_type": "code",
   "execution_count": 78,
   "metadata": {},
   "outputs": [
    {
     "data": {
      "text/plain": [
       "'Stuart Branan'"
      ]
     },
     "execution_count": 78,
     "metadata": {},
     "output_type": "execute_result"
    }
   ],
   "source": [
    "name = \"Stuuart Brannan\"\n",
    "def fix_double(name):\n",
    "    lst = [\"aa\",\"bb\",\"cc\",\"dd\",\"ee\",\"ff\",\"gg\",\"hh\",\"ii\",\"jj\",\"kk\",\"ll\",\"mm\",\"nn\",\"oo\",\"pp\",\"qq\",\"rr\",\"ss\",\"tt\",\"uu\",\"vv\",\"ww\",\"xx\",\"yy\",\"zz\"]\n",
    "    new_name = name\n",
    "    for i in lst:\n",
    "        if i in name:\n",
    "            new_name = new_name[:(new_name.index(i))] + new_name[((new_name.index(i))+1):]\n",
    "    return new_name\n",
    "\n",
    "fix_double(name)\n"
   ]
  },
  {
   "cell_type": "code",
   "execution_count": 68,
   "metadata": {},
   "outputs": [],
   "source": [
    "#Alternative double letter fixer function\n",
    "\n",
    "import string\n",
    "double_letter_list = [x+x for x in string.ascii_lowercase]\n",
    "list_to_replace = [x for x in double_letter_list if x in name]\n",
    "new_name = name\n",
    "for dl in list_to_replace:\n",
    "    new_name = new_name.replace(dl,dl[0])\n"
   ]
  },
  {
   "cell_type": "markdown",
   "metadata": {},
   "source": [
    "Additional Spaces Function "
   ]
  },
  {
   "cell_type": "code",
   "execution_count": 95,
   "metadata": {},
   "outputs": [
    {
     "data": {
      "text/plain": [
       "'Stuart Brannan'"
      ]
     },
     "execution_count": 95,
     "metadata": {},
     "output_type": "execute_result"
    }
   ],
   "source": [
    "name = \"Stuart  Brannan\" \n",
    "def del_spaces(name):\n",
    "    double_space = \"  \"\n",
    "    new_name = name\n",
    "    for ds in name: \n",
    "        new_name = new_name.replace(\"  \",\" \")\n",
    "    return new_name\n",
    "\n",
    "del_spaces(name)    #fix error when there are two doubles spaces it only fixes one. "
   ]
  },
  {
   "cell_type": "markdown",
   "metadata": {},
   "source": [
    "Name Order "
   ]
  },
  {
   "cell_type": "code",
   "execution_count": 97,
   "metadata": {},
   "outputs": [
    {
     "name": "stdout",
     "output_type": "stream",
     "text": [
      "Stuart Brannan\n"
     ]
    }
   ],
   "source": [
    "name = \"Brannan Stuart\"\n",
    "sep_name = name.split(\" \")  \n",
    "index_lst = lst(range(0,(len(sep_name) - 1)))\n",
    "while len(index_lst) > 0:\n",
    "    index_1 = np.randomchoice(index_lst) \n",
    "    first_name = sep_name[index_1]  \n",
    "    index_lst.remove(index_1)\n",
    "last_name = sep_name[]   \n",
    "name_reordered = first_name + \" \" + last_name\n",
    "print(name_reordered)    "
   ]
  },
  {
   "cell_type": "code",
   "execution_count": 98,
   "metadata": {},
   "outputs": [
    {
     "data": {
      "text/plain": [
       "range(0, 5)"
      ]
     },
     "execution_count": 98,
     "metadata": {},
     "output_type": "execute_result"
    }
   ],
   "source": [
    "range(5)"
   ]
  },
  {
   "cell_type": "code",
   "execution_count": 100,
   "metadata": {},
   "outputs": [
    {
     "name": "stdout",
     "output_type": "stream",
     "text": [
      "range(0, 5)\n"
     ]
    }
   ],
   "source": [
    "lst = range(5)\n",
    "print(lst)"
   ]
  },
  {
   "cell_type": "code",
   "execution_count": null,
   "metadata": {},
   "outputs": [],
   "source": []
  }
 ],
 "metadata": {
  "kernelspec": {
   "display_name": "Python 3",
   "language": "python",
   "name": "python3"
  },
  "language_info": {
   "codemirror_mode": {
    "name": "ipython",
    "version": 3
   },
   "file_extension": ".py",
   "mimetype": "text/x-python",
   "name": "python",
   "nbconvert_exporter": "python",
   "pygments_lexer": "ipython3",
   "version": "3.7.3"
  }
 },
 "nbformat": 4,
 "nbformat_minor": 2
}
