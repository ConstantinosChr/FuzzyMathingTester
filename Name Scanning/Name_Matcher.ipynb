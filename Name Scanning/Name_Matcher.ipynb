{
 "cells": [
  {
   "cell_type": "code",
   "execution_count": 16,
   "metadata": {},
   "outputs": [],
   "source": [
    "from fuzzywuzzy import fuzz, process\n",
    "import numpy as np\n",
    "import pandas as pd\n",
    "import random"
   ]
  },
  {
   "cell_type": "markdown",
   "metadata": {},
   "source": [
    "Function: Using initials instead of full name"
   ]
  },
  {
   "cell_type": "code",
   "execution_count": 58,
   "metadata": {
    "scrolled": true
   },
   "outputs": [
    {
     "name": "stdout",
     "output_type": "stream",
     "text": [
      "Please state your first and last name: Kenneth Evbuomwan\n"
     ]
    },
    {
     "data": {
      "text/plain": [
       "['Kenneth Evbuomwan',\n",
       " 'Kenneth Evboomwan',\n",
       " 'Kenneth Evbuumwan',\n",
       " 'Kenneth Evbuuamwan',\n",
       " 'Kenned Evbuomwan',\n",
       " 'Kenneth Ewbuomwan',\n",
       " 'Kenneth Evbuomvan',\n",
       " 'Kenneth Ebbuomwan',\n",
       " 'Kenneth Evvuomwan',\n",
       " 'Kenneth Evbuomwen',\n",
       " 'Kannath Evbuomwan',\n",
       " 'Kenneth Efbuomwan',\n",
       " 'Kenneyh Evbuomwan',\n",
       " 'Kenneth Evbupmwan',\n",
       " 'Kdnndth Evbuomwan',\n",
       " 'Krnnrth Evbuomwan',\n",
       " 'Keññeth Evbuomwañ',\n",
       " 'Qenneth Evbuomwan',\n",
       " 'Kenneth Avbuomwan',\n",
       " 'Cenneth Evbuomwan',\n",
       " 'Kenneth Dvbuomwan',\n",
       " 'Kenneth Rvbuomwan',\n",
       " 'K E',\n",
       " 'K Evbuomwan',\n",
       " 'Kenneth E',\n",
       " 'Kenneth al-Evbuomwan',\n",
       " 'Kenneth Al Evbuomwan',\n",
       " 'Kenneth El Evbuomwan',\n",
       " 'Kenneth Evbuomwan',\n",
       " 'Kenneth Evbuomwan',\n",
       " 'Kennet Evbuomwan',\n",
       " 'Kennethu Evbuomwan',\n",
       " 'Evbuomwan Kenneth',\n",
       " 'Kenneth  Evbuomwan',\n",
       " 'KennethEvbuomwan']"
      ]
     },
     "execution_count": 58,
     "metadata": {},
     "output_type": "execute_result"
    }
   ],
   "source": [
    "#name used to test the model \n",
    "name = input('Please state your first and last name: ')\n",
    "\n",
    "vowels = [\"a\", \"e\",\"i\", \"o\",\"u\"]\n",
    "\n",
    "# Array created with the common mistakes, lower and upper case\n",
    "replacement_array = [['s','z'],['z','s'],['s','c'],['c','s'],['c','z']\n",
    "              ,['z','c'],['u','o'], ['o','u'],['ua','o'], ['o','ua']\n",
    "              , ['ph','f'],['f','ph'],['y','i'],['i','y'],['d','th']\n",
    "              ,['th','d'],['v','w'],['w','v'],['k','q'],['q','k']\n",
    "                ,['v','b'],['b','v'],['a','e'],['e','a'],['x','j']\n",
    "                ,['j','x'],['v','f'],['f','v'],['c','k'],['k','c']\n",
    "                ,['t','y'],['y','t'],['o','p'],['p','o'],['d','e'],['e','d']\n",
    "                ,['f','d'],['d','f'],['r','f'],['f','r'],['e','r'],['r','e']\n",
    "                ,['n','ñ'],['ñ','n'],['ei','ie'],['ie','ei'],['S','Z'],['ed','de'],\n",
    "                     ['de','ed'],['ea','ae'],['ae','ea'],\n",
    "                     ['Z','S'],['S','C'],['C','S'],['C','Z']\n",
    "              ,['Z','C'],['U','O'], ['O','U'],['UA','O'], ['O','UA']\n",
    "              , ['PH','F'],['F','PH'],['Y','I'],['I','Y'],['D','TH']\n",
    "              ,['TH','D'],['V','W'],['W','V'],['K','Q'],['Q','K']\n",
    "                ,['V','B'],['B','V'],['A','E'],['E','A'],['X','J']\n",
    "                ,['J','X'],['V','F'],['F','V'],['C','K'],['K','C']\n",
    "                ,['T','Y'],['Y','T'],['O','P'],['P','O'],['D','E'],['E','D']\n",
    "                ,['F','D'],['D','F'],['R','F'],['F','R'],['E','R'],['R','E']\n",
    "                ,['N','Ñ'],['Ñ','N'],['Ed','De'],['De','Ed'],['Ei','Ie'],\n",
    "                     ['Ie','Ei'],['Ea','Ae'],['Ae','Ea'],]\n",
    "\n",
    "\n",
    "# Output will be: Firstname initial Lastname Innitial\n",
    "def search_initials(name):\n",
    "    sep_name = name.split(\" \")\n",
    "    first_name = sep_name[0]\n",
    "    last_name = sep_name[-1]\n",
    "\n",
    "    first_initial = first_name[0]\n",
    "    second_initial = last_name[0]\n",
    "    final_output = first_initial+' '+second_initial\n",
    "    return (final_output)\n",
    "\n",
    "# Output will be: Firstname initial lastname\n",
    "def firstname_initials_single(name):\n",
    "    sep_name = name.split(\" \")\n",
    "    first_name = sep_name[0]\n",
    "    last_name = sep_name[-1]\n",
    "    first_initial = first_name[0]\n",
    "    final_output = first_initial+\" \"+last_name\n",
    "    return (final_output)\n",
    "\n",
    "# Ouput will be: Firstname Lastname Innitial\n",
    "def lastname_initials_single(name):\n",
    "    sep_name = name.split(\" \")\n",
    "    first_name = sep_name[0]\n",
    "    last_name = sep_name[-1]\n",
    "    last_initial = last_name[0]\n",
    "    final_output = first_name+\" \"+last_initial\n",
    "    return (final_output)\n",
    "\n",
    "#Ouput will ad \"al-\" to the surname\n",
    "def add_al(name):\n",
    "    al = \"al-\"\n",
    "    sep_name = name.split(\" \")\n",
    "    first_name = sep_name[0]\n",
    "    last_name = sep_name[-1]\n",
    "    last_initial = last_name[0]\n",
    "    al_last_name = al+last_name\n",
    "    final_output = first_name+\" \"+al_last_name\n",
    "    return (final_output)\n",
    "\n",
    "#Ouput will ad \"Al \" to the surname\n",
    "def add_Al_space(name):\n",
    "    al = \"Al \"\n",
    "    sep_name = name.split(\" \")\n",
    "    first_name = sep_name[0]\n",
    "    last_name = sep_name[-1]\n",
    "    last_initial = last_name[0]\n",
    "    al_last_name = al+''+last_name\n",
    "    final_output = first_name+\" \"+al_last_name\n",
    "    return (final_output)\n",
    "\n",
    "#Ouput will ad \"El \" to the surname\n",
    "def add_El_space(name):\n",
    "    al = \"El \"\n",
    "    sep_name = name.split(\" \")\n",
    "    first_name = sep_name[0]\n",
    "    last_name = sep_name[-1]\n",
    "    al_last_name = al+last_name\n",
    "    final_output = first_name+\" \"+al_last_name\n",
    "    return (final_output)\n",
    "\n",
    "\n",
    "# Output will be all the common error replacements\n",
    "def char_rep(name, replacement_array):\n",
    "    # Create empty list to contain results\n",
    "    char_rep_list = []\n",
    "    \n",
    "    # Loop through common errors\n",
    "    for pair in replacement_array:\n",
    "        # Try replacement\n",
    "        new_name = name.replace(pair[0],pair[1])\n",
    "        \n",
    "        # Avoid duplication by only taking names not currently in the list\n",
    "        if not new_name in char_rep_list:\n",
    "            char_rep_list.append(new_name)\n",
    "            \n",
    "    return(char_rep_list)\n",
    "\n",
    "# Output will remove the \"c\" before the \"k\"\n",
    "def remove_c_before_k(name):\n",
    "    new_name = name.replace(\"ck\",\"k\")\n",
    "    new_name_1 = new_name.replace(\"Ck\",\"k\")\n",
    "    return new_name_1\n",
    "\n",
    "\n",
    "# Output will remove the \"e\" before the \"s\"\n",
    "def remove_e_before_s(name):\n",
    "    new_name = name.replace(\"es\",\"s\")\n",
    "    new_name_1 = new_name.replace(\"Es\",\"S\")\n",
    "    return new_name_1\n",
    "\n",
    "# Output will remove the \"h\"\n",
    "def remove_h(name):\n",
    "    new_name = name.replace(\"h\",\"\")\n",
    "    new_name_1 = new_name.replace(\"H\",\"\")\n",
    "    return new_name_1\n",
    "\n",
    "# Adds a random vowel to the first name\n",
    "# can be changed to add a random vowel to the surename easily\n",
    "def add_random_vowels(name):\n",
    "    sep_name = name.split(\" \")\n",
    "    first_name = sep_name[0]\n",
    "    last_name = sep_name[-1]\n",
    "    random_vowel = first_name+random.choice(vowels)\n",
    "    final_output = random_vowel+\" \"+last_name\n",
    "    return (final_output)\n",
    "\n",
    "#The name is split apart into a list and the shuiffle function places them in a random order\n",
    "def shuffle_name(name): \n",
    "    sep_name = name.split(\" \")\n",
    "    first_name = sep_name[0]\n",
    "    last_name = sep_name[-1]\n",
    "    random.shuffle(sep_name)\n",
    "    final_name = sep_name[0]+\" \"+sep_name[-1]\n",
    "    return(final_name)\n",
    "\n",
    "# As the name suggests, it adds a space inbetween the names\n",
    "def space_insertion(name): \n",
    "    sep_name = name.split(\" \")\n",
    "    first_name = sep_name[0]\n",
    "    last_name = sep_name[-1]\n",
    "    final_name = first_name+\"  \"+last_name\n",
    "    return(final_name)\n",
    "\n",
    "# As the name suggests, it removes a space inbetween the names\n",
    "def space_reduction(name): \n",
    "    sep_name = name.split(\" \")\n",
    "    first_name = sep_name[0]\n",
    "    last_name = sep_name[-1]\n",
    "    final_name = first_name+last_name\n",
    "    return(final_name)\n",
    "    \n",
    "#All the name derivations will be appended to a list\n",
    "list_of_names = []\n",
    "list_of_names.append(search_initials(name))\n",
    "list_of_names.append(firstname_initials_single(name))\n",
    "list_of_names.append(lastname_initials_single(name))\n",
    "list_of_names.append(add_al(name))\n",
    "list_of_names.append(add_Al_space(name))\n",
    "list_of_names.append(add_El_space(name))\n",
    "list_of_names.append(remove_c_before_k(name))\n",
    "list_of_names.append(remove_e_before_s(name))\n",
    "list_of_names.append(remove_h(name))\n",
    "list_of_names.append(add_random_vowels(name))\n",
    "list_of_names.append(shuffle_name(name))\n",
    "list_of_names.append(space_insertion(name))\n",
    "list_of_names.append(space_reduction(name))\n",
    "\n",
    "#The list that has all name derivations\n",
    "complete_name_array = char_rep(name, replacement_array) + list_of_names\n",
    "complete_name_array\n",
    "\n"
   ]
  },
  {
   "cell_type": "code",
   "execution_count": 93,
   "metadata": {},
   "outputs": [
    {
     "name": "stdout",
     "output_type": "stream",
     "text": [
      "Jose Helrera\n"
     ]
    }
   ],
   "source": [
    "name = \"Jose Herrera\"\n",
    "orig_char = 'r'\n",
    "new_char = 'l'\n",
    "def replace_only(name,orig_char,new_char):\n",
    "\n",
    "    # Find the original characters\n",
    "    index_orig_char = [i for i,x in enumerate(name) if x == orig_char]\n",
    "    if index_orig_char:\n",
    "        index_to_change = np.random.choice(index_orig_char)\n",
    "        \n",
    "        # Replace one character and join back\n",
    "        new_name = name[:index_to_change] + new_char + name[1+index_to_change:] \n",
    "        return new_name\n",
    "    else:\n",
    "        return name\n",
    "    \n",
    "print(replace_only(name, orig_char,new_char))\n"
   ]
  },
  {
   "cell_type": "code",
   "execution_count": 14,
   "metadata": {
    "scrolled": true
   },
   "outputs": [
    {
     "name": "stdout",
     "output_type": "stream",
     "text": [
      "Please state your first and last name: Osama\n",
      "     Index?  Name    Type Program Title Call Sign       Vessel Type  Tonnage  \\\n",
      "3272  15084  SANA  vessel    IRAN  -0-      T2DY4  Crude Oil Tanker  164.154   \n",
      "\n",
      "     Gross Tonnage Vessel Flag Vessel Owner  \\\n",
      "3272        85.462      Panama         -0-    \n",
      "\n",
      "                                                Remarks  \n",
      "3272  Former Vessel Flag Malta; alt. Former Vessel F...  \n"
     ]
    }
   ],
   "source": [
    "from fuzzywuzzy import fuzz, process\n",
    "import numpy as np\n",
    "import pandas as pd\n",
    "# Import the xlsx file that has the SDN data\n",
    "SDNList = 'SDNNames.xlsx'\n",
    "\n",
    "#Covert the excel file to a readable/searchable data frame\n",
    "SDNdf = pd.read_excel(SDNList)\n",
    "\n",
    "#Just used as a test to print out the 5 entries at the top\n",
    "SDNdf.head()\n",
    "\n",
    "#Creates a list of the names .unique() ensures that there aren't any duplicates\n",
    "# Should consider removing this in case there are duplicate names but with different data in \n",
    "# other areas\n",
    "NamesSDN = SDNdf['Name'].unique()\n",
    "NamesSDN[:]\n",
    "\n",
    "#Name input to test, can be deleted when the complete_name_array can be used instead\n",
    "name = input('Please state your first and last name: ')\n",
    "\n",
    "# extracts the top 4 results, change the integer after limit to increase/decrease this range\n",
    "test1 = process.extract(name, NamesSDN,limit = 4, scorer=fuzz.token_sort_ratio)\n",
    "\n",
    "#Extracts the results that are above the score \"> xx\"\n",
    "test2 = SDNdf[SDNdf.apply(lambda row: fuzz.token_sort_ratio(row['Name'], name), axis=1) > 60]\n",
    "\n",
    "\n",
    "print(test2)"
   ]
  },
  {
   "cell_type": "code",
   "execution_count": 15,
   "metadata": {},
   "outputs": [
    {
     "name": "stdout",
     "output_type": "stream",
     "text": [
      "[('SANA', 67), ('HAMAS', 60), ('RAMAK', 60), ('APAMA', 60)]\n"
     ]
    }
   ],
   "source": [
    "print(test1)\n",
    "\n",
    "#Using loc method we can print out select rows but I'm still working on the index for the side\n",
    "#Currently it's assuming that the index is the name, still trying to figure it out\n",
    "#SDNdf.loc[1154]"
   ]
  },
  {
   "cell_type": "code",
   "execution_count": 49,
   "metadata": {},
   "outputs": [
    {
     "name": "stdout",
     "output_type": "stream",
     "text": [
      "Which result would you like to see?:\n",
      "1154\n"
     ]
    },
    {
     "name": "stderr",
     "output_type": "stream",
     "text": [
      "C:\\Users\\kenneth.evbuomwan\\AppData\\Local\\Continuum\\anaconda3\\lib\\site-packages\\pandas\\core\\ops.py:1649: FutureWarning: elementwise comparison failed; returning scalar instead, but in the future will perform elementwise comparison\n",
      "  result = method(y)\n"
     ]
    },
    {
     "data": {
      "text/html": [
       "<div>\n",
       "<style scoped>\n",
       "    .dataframe tbody tr th:only-of-type {\n",
       "        vertical-align: middle;\n",
       "    }\n",
       "\n",
       "    .dataframe tbody tr th {\n",
       "        vertical-align: top;\n",
       "    }\n",
       "\n",
       "    .dataframe thead th {\n",
       "        text-align: right;\n",
       "    }\n",
       "</style>\n",
       "<table border=\"1\" class=\"dataframe\">\n",
       "  <thead>\n",
       "    <tr style=\"text-align: right;\">\n",
       "      <th></th>\n",
       "      <th>Index?</th>\n",
       "      <th>Name</th>\n",
       "      <th>Type</th>\n",
       "      <th>Program</th>\n",
       "      <th>Title</th>\n",
       "      <th>Call Sign</th>\n",
       "      <th>Vessel Type</th>\n",
       "      <th>Tonnage</th>\n",
       "      <th>Gross Tonnage</th>\n",
       "      <th>Vessel Flag</th>\n",
       "      <th>Vessel Owner</th>\n",
       "      <th>Remarks</th>\n",
       "    </tr>\n",
       "  </thead>\n",
       "  <tbody>\n",
       "  </tbody>\n",
       "</table>\n",
       "</div>"
      ],
      "text/plain": [
       "Empty DataFrame\n",
       "Columns: [Index?, Name, Type, Program, Title, Call Sign, Vessel Type, Tonnage, Gross Tonnage, Vessel Flag, Vessel Owner, Remarks]\n",
       "Index: []"
      ]
     },
     "execution_count": 49,
     "metadata": {},
     "output_type": "execute_result"
    }
   ],
   "source": [
    "inputIndex = input(\"Which result would you like to see?:\\n\")\n",
    "SDNdf.loc[SDNdf['Index?'] == inputIndex]\n",
    "\n",
    "#Requires more work...."
   ]
  },
  {
   "cell_type": "code",
   "execution_count": 62,
   "metadata": {},
   "outputs": [
    {
     "name": "stderr",
     "output_type": "stream",
     "text": [
      "Exception in Tkinter callback\n",
      "Traceback (most recent call last):\n",
      "  File \"C:\\Users\\kenneth.evbuomwan\\AppData\\Local\\Continuum\\anaconda3\\lib\\tkinter\\__init__.py\", line 1705, in __call__\n",
      "    return self.func(*args)\n",
      "  File \"<ipython-input-62-7093f2f2f23c>\", line 8, in mfileopen\n",
      "    file1 = filedialog.askopenfile()\n",
      "NameError: name 'filedialog' is not defined\n"
     ]
    }
   ],
   "source": [
    "from tkinter import *\n",
    "\n",
    "a = Tk()\n",
    "def mcolor():\n",
    "    color = colorchooser.askcolor()\n",
    "    label = Label(text='blabla your color is:', bg=color[1]).pack()\n",
    "def mfileopen():\n",
    "    file1 = filedialog.askopenfile()\n",
    "    label = Label(text=file1).pack()\n",
    "    \n",
    "button = Button (text=\"Choose colour:\", width = 30, command = mcolor).pack()\n",
    "button = Button (text=\"Open File:\", width = 30, command = mfileopen).pack()\n",
    "\n",
    "a.mainloop()"
   ]
  },
  {
   "cell_type": "code",
   "execution_count": 61,
   "metadata": {},
   "outputs": [],
   "source": [
    "from tkinter import *"
   ]
  }
 ],
 "metadata": {
  "kernelspec": {
   "display_name": "Python 3",
   "language": "python",
   "name": "python3"
  },
  "language_info": {
   "codemirror_mode": {
    "name": "ipython",
    "version": 3
   },
   "file_extension": ".py",
   "mimetype": "text/x-python",
   "name": "python",
   "nbconvert_exporter": "python",
   "pygments_lexer": "ipython3",
   "version": "3.7.3"
  }
 },
 "nbformat": 4,
 "nbformat_minor": 2
}
