{
 "cells": [
  {
   "cell_type": "markdown",
   "metadata": {},
   "source": [
    "## Sanction Screening Tool"
   ]
  },
  {
   "cell_type": "markdown",
   "metadata": {},
   "source": [
    "## Index"
   ]
  },
  {
   "cell_type": "markdown",
   "metadata": {},
   "source": [
    "* [Imports](#Imports)\n",
    "* [Auxiliar Functions](#Auxiliar-Functions)\n",
    "* [Variation Categories](#Variation-Categories)"
   ]
  },
  {
   "cell_type": "markdown",
   "metadata": {},
   "source": [
    "## Imports"
   ]
  },
  {
   "cell_type": "code",
   "execution_count": 24,
   "metadata": {},
   "outputs": [],
   "source": [
    "import pandas as pd\n",
    "import numpy as np\n",
    "import string\n",
    "from itertools import permutations"
   ]
  },
  {
   "cell_type": "markdown",
   "metadata": {},
   "source": [
    "[Back to index](#Index)"
   ]
  },
  {
   "cell_type": "markdown",
   "metadata": {},
   "source": [
    "## Auxiliar Functions"
   ]
  },
  {
   "cell_type": "code",
   "execution_count": 2,
   "metadata": {},
   "outputs": [],
   "source": [
    "def get_vowel_index(name):\n",
    "    vowels = [\"a\",\"e\",\"i\",\"o\",\"u\",\"A\",\"E\",\"I\",\"O\",\"U\"]\n",
    "    return [i for i,j in enumerate(name) if j in vowels]\n",
    "\n",
    "def get_vowel_lowercase_index(name):\n",
    "    vowels = [\"a\",\"e\",\"i\",\"o\",\"u\"]\n",
    "    return [i for i,j in enumerate(name) if j in vowels]\n",
    "\n",
    "def get_vowel_uppercase_index(name):\n",
    "    vowels = [\"A\",\"E\",\"I\",\"O\",\"U\"]\n",
    "    return [i for i,j in enumerate(name) if j in vowels]\n",
    "\n",
    "def get_consonant_lowercase_index(name):\n",
    "    consonants = [x for x in string.ascii_lowercase if x not in \"aeiou\"]\n",
    "    return [i for i,j in enumerate(name) if j in consonants]"
   ]
  },
  {
   "cell_type": "markdown",
   "metadata": {},
   "source": [
    "[Back to index](#Index)"
   ]
  },
  {
   "cell_type": "markdown",
   "metadata": {},
   "source": [
    "## Variation Categories\n",
    "* [Initials](#Initials)\n",
    "* [Character Extension](#Character-Extension)\n",
    "* [Character Replacement](#Character-Replacement)\n",
    "* [Character Reduction](#Character-Reduction)\n",
    "* [Transposition](#Transposition)\n",
    "* [Double Characters](#Double-Characters)\n",
    "* [Spaces](#Spaces)\n",
    "* [Name Order](#Name-Order)\n",
    "* [Titles](#Titles)\n",
    "* [Missing Name Component](#Missing-Name-Component)\n",
    "* [Also Known As](#Also-Known-As)"
   ]
  },
  {
   "cell_type": "markdown",
   "metadata": {},
   "source": [
    "### Initials"
   ]
  },
  {
   "cell_type": "markdown",
   "metadata": {},
   "source": [
    "* firstname_initials_single: BUITRAGO DE HERRERA, Luz Mery ->  L. Mery Buitrago de Herrera\n",
    "* firstname_initials: BUITRAGO DE HERRERA, Luz Mery ->  L. M. Buitrago de Herrera\n",
    "* initials_lastname: BUITRAGO DE HERRERA, Luz Mery -> Luz Mery Buitrago de H.\n",
    "* lastname_initials_clear_first_name: BUITRAGO DE HERRERA, Luz Mery -> B. de Herrera"
   ]
  },
  {
   "cell_type": "code",
   "execution_count": 3,
   "metadata": {},
   "outputs": [],
   "source": [
    "def firstname_initials_single(name):\n",
    "    '''Returns first element as initial if more than one element in name'''\n",
    "    name_elements = name.split(\" \")\n",
    "    if len(name_elements)>=2:\n",
    "        output = name_elements[0][0] + \". \"\n",
    "        return output + \" \".join(name_elements[1:])\n",
    "    else:\n",
    "        return name\n",
    "    \n",
    "def firstname_initials(name):\n",
    "    '''Returns first and second element as initials if more than two elements in name,\n",
    "        otherwise first element as initial '''\n",
    "    name_elements = name.split(\" \")\n",
    "    if len(name_elements)>=3:\n",
    "        output = name_elements[0][0] + \".\" + name_elements[1][0] + \". \"\n",
    "        return output + \" \".join(name_elements[2:])\n",
    "    else:\n",
    "        return firstname_initials_single(name)\n",
    "\n",
    "def initials_lastname(name):\n",
    "    '''Returns last element as initial if more than one element in name'''\n",
    "    name_elements = name.split(\" \")\n",
    "    if len(name_elements)>=2:\n",
    "        output = name_elements[-1][0] + \".\"\n",
    "        return \" \".join(name_elements[:-1]) + \" \" + output\n",
    "    else:\n",
    "        return firstname_initials_single(name)\n",
    "\n",
    "def lastname_initials_clear_first_name(name):\n",
    "    '''xxx'''\n",
    "    name_elements = name.split(\" \")\n",
    "    if len(name_elements)>=2:\n",
    "        output = name_elements[-1][0] + \".\"\n",
    "        return \" \".join(name_elements[1:-1]) + \" \" + output\n",
    "    else:\n",
    "        return firstname_initials_single(name)"
   ]
  },
  {
   "cell_type": "markdown",
   "metadata": {},
   "source": [
    "lastname_initials_clear_first_name"
   ]
  },
  {
   "cell_type": "code",
   "execution_count": 4,
   "metadata": {
    "scrolled": true
   },
   "outputs": [
    {
     "name": "stdout",
     "output_type": "stream",
     "text": [
      "firstname_initials_single: L. Mery Buitrago de Herrera\n",
      "firstname_initials: L.M. Buitrago de Herrera\n",
      "initials_lastname: Luz Mery Buitrago de H.\n",
      "lastname_initials_clear_first_name: Mery Buitrago de H.\n"
     ]
    }
   ],
   "source": [
    "name = \"Luz Mery Buitrago de Herrera\"\n",
    "print(\"firstname_initials_single: \" + firstname_initials_single(name))\n",
    "print(\"firstname_initials: \" + firstname_initials(name))\n",
    "print(\"initials_lastname: \" + initials_lastname(name))\n",
    "print(\"lastname_initials_clear_first_name: \" + lastname_initials_clear_first_name(name))"
   ]
  },
  {
   "cell_type": "markdown",
   "metadata": {},
   "source": [
    "[Back to Variation Categories](#Variation-Categories)"
   ]
  },
  {
   "cell_type": "markdown",
   "metadata": {},
   "source": [
    "### Character Extension"
   ]
  },
  {
   "cell_type": "markdown",
   "metadata": {},
   "source": [
    "* add_spc_in_letters: BUITRAGO DE HERRERA, Luz Mery -> Lu z Mery Buitrago de Herrera\n",
    "* add_prefix:\n",
    "    * add_al-: QADHAFI, Muammar  -> Muammar al-Qadhafi\n",
    "    * add_Al_and_space: QADHAFI, Muammar  -> Muammar Al Qadhafi\n",
    "    * add_El_and_space: QADHAFI, Muammar  -> Muammar El Qadhafi\n",
    "* add_vowel: QADHAFI, Muammar  -> Mouammar El Qadhafi\n",
    "* add_h_before_vowel: BUITRAGO DE HERRERA, Luz Mery -> Luz Mhery Buitrago de Herreras\n",
    "* add_consonant:\n",
    "    * add_consonant_final_s: BUITRAGO DE HERRERA, Luz Mery -> Luz Mery Buitrago de Herreras\n",
    "    * add_consonant_final_r: BUITRAGO DE HERRERA, Luz Mery -> Luz Mery Buitragor de Herrera\n",
    "    * add_consonant_final_z: BUITRAGO DE HERRERA, Luz Mery -> Luz Mery Buitrago de Herreraz\n",
    "    * add_consonant_uncommon: BUITRAGO DE HERRERA, Luz Mery -> Luz Mery Buitragozz de Herrera\n",
    "    * add_consonant_double: BUITRAGO DE HERRERA, Luz Mery -> Luz Mery Buitragopz de Herrera\n",
    "* add_special_character:\n",
    "    * add_special_character_apostrophe: QADHAFI, Muammar  -> Mu'Ammar El Qadhafi\n",
    "    * add_special_character_accent: LINARES REYES, Ricardo Jose -> Ricardo José Linares Reyes\n",
    "    * add_special_character_uncommon: LINARES REYES, Ricardo Jose -> Ricardo Jos! Linares Reyes"
   ]
  },
  {
   "cell_type": "code",
   "execution_count": 5,
   "metadata": {},
   "outputs": [],
   "source": [
    "def add_spc_in_letters(name):\n",
    "    '''Randomly adds a space in the middle of name element'''\n",
    "    name_elements = name.split(\" \")\n",
    "    cne = np.random.choice(name_elements) # chosen name element\n",
    "    cli = np.random.choice([x+1 for x in range(len(cne)-1)]) # chosen letter index\n",
    "    return name.replace(cne,cne[:cli] + \" \" + cne[cli:])\n",
    "\n",
    "def add_al_and_hyphen(name):\n",
    "    '''Adds 'al-'' to the last element of a name'''\n",
    "    name_elements = name.split(\" \")\n",
    "    return \" \".join(name_elements[:-1]) + \" al-\" + name_elements[-1]\n",
    "\n",
    "def add_Al_and_space(name):\n",
    "    '''Adds 'Al-'' to the last element of a name'''\n",
    "    name_elements = name.split(\" \")\n",
    "    return \" \".join(name_elements[:-1]) + \" Al-\" + name_elements[-1]\n",
    "\n",
    "def add_El_and_space(name):\n",
    "    '''Adds 'El-'' to the last element of a name'''\n",
    "    name_elements = name.split(\" \")\n",
    "    return \" \".join(name_elements[:-1]) + \" El-\" + name_elements[-1]\n",
    "\n",
    "def add_vowel(name):\n",
    "    '''Adds a lowecase vowel to a randomly chosen element of the name'''\n",
    "    vowels = [\"a\",\"e\",\"i\",\"o\",\"u\"]\n",
    "    name_elements = name.split(\" \")\n",
    "    cv = np.random.choice(vowels) # chosen vowel\n",
    "    cne = np.random.choice(name_elements) # chosen name element\n",
    "    cli = np.random.choice([x+1 for x in range(len(cne)-1)]) # chosen letter index\n",
    "    return name.replace(cne,cne[:cli] + cv + cne[cli:])\n",
    "\n",
    "def add_h_before_vowel(name):\n",
    "    '''Adds an h before a vowel to a randomly chosen element of the name'''\n",
    "    vlcindx = get_vowel_lowercase_index(name) # vowels lower case index\n",
    "    rcvi    = np.random.choice(vlcindx)# randomly chosen vowel index\n",
    "    return name[:rcvi] + \"h\" +  name[rcvi:]\n",
    "\n",
    "def add_consonant_final_s(name):\n",
    "    '''Adds an s after a randomly chosen element of the name'''\n",
    "    name_elements = name.split(\" \")\n",
    "    cne = np.random.choice(name_elements) # chosen name element\n",
    "    return name.replace(cne,cne + \"s\")\n",
    "\n",
    "def add_consonant_final_r(name):\n",
    "    '''Adds an s after a randomly chosen element of the name'''\n",
    "    name_elements = name.split(\" \")\n",
    "    cne = np.random.choice(name_elements) # chosen name element\n",
    "    return name.replace(cne,cne + \"r\")\n",
    "\n",
    "def add_consonant_final_z(name):\n",
    "    '''Adds an s after a randomly chosen element of the name'''\n",
    "    name_elements = name.split(\" \")\n",
    "    cne = np.random.choice(name_elements) # chosen name element\n",
    "    return name.replace(cne,cne + \"z\")\n",
    "\n",
    "def add_consonant_uncommon(name):\n",
    "    '''Adds a non r,s,z consonant in a randomly chosen element of the name'''\n",
    "    consonants = [x for x in string.ascii_lowercase if x not in \"aeioursz\"]\n",
    "    name_elements = name.split(\" \")\n",
    "    cc = np.random.choice(consonants)\n",
    "    cne = np.random.choice(name_elements) # chosen name element\n",
    "    cli = np.random.choice([x+1 for x in range(len(cne)-1)]) # chosen letter index\n",
    "    return name.replace(cne,cne[:cli] + cc + cne[cli:])\n",
    "\n",
    "def add_consonant_double(name):\n",
    "    '''Adds a double consonant in a randomly chosen element of the name'''\n",
    "    consonants = [x for x in string.ascii_lowercase if x not in \"aeiou\"]\n",
    "    cindx      = get_consonant_lowercase_index(name) # consonants index\n",
    "    ccindx     = np.random.choice(cindx) # chosen consonant index\n",
    "    cdc         = name[ccindx] #chosen doubled consonant\n",
    "    return name[:ccindx] + cdc +name[ccindx:]\n",
    "\n",
    "def add_special_character_apostrophe(name):\n",
    "    '''Adds an apostrophe in a randomly chosen element of the name'''\n",
    "    name_elements = name.split(\" \")\n",
    "    cne = np.random.choice(name_elements) # chosen name element\n",
    "    ci = np.random.choice([x+1 for x in range(len(cne))]) #chosen index\n",
    "    return name.replace(cne,cne[:ci] + \"'\" + cne[ci:])\n",
    "\n",
    "def add_special_character_accent(name):\n",
    "    '''Adds an accent to a vowel from a randomly chosen element of the name'''\n",
    "    accents_dict = {\"a\":\"á\",\"e\":\"é\",\"i\":\"í\",\"o\":\"ó\",\"u\":\"ú\"}\n",
    "    name_elements = name.split(\" \")\n",
    "    vlcindx = get_vowel_lowercase_index(name) # vowels lower case index\n",
    "    rcvi    = np.random.choice(vlcindx)# randomly chosen vowel index\n",
    "    return name[:rcvi] +accents_dict[name[rcvi]] + name[rcvi+1:]\n",
    "\n",
    "def add_special_character_uncommon(name):\n",
    "    '''Adds a punctuation simbol to a randomly chosen element of the name'''\n",
    "    simbol = np.random.choice([x for x in string.punctuation if x not in [\"'\"]])\n",
    "    ci = np.random.choice(range(len(name))) # chosen index\n",
    "    return name[:ci] + simbol + name[ci:]"
   ]
  },
  {
   "cell_type": "code",
   "execution_count": 6,
   "metadata": {
    "scrolled": false
   },
   "outputs": [
    {
     "name": "stdout",
     "output_type": "stream",
     "text": [
      "add_spc_in_letters: Lu z Mery Buitrago de Herrera\n",
      "add_al_and_hyphen: Luz Mery Buitrago de al-Herrera\n",
      "add_Al_and_space: Luz Mery Buitrago de Al-Herrera\n",
      "add_El_and_space: Luz Mery Buitrago de El-Herrera\n",
      "add_vowel: Luz Mery Buitrago die Herrera\n",
      "add_h_before_vowel: Luz Mery Buitrago de Herrhera\n",
      "add_consonant_final_s: Luz Mery Buitrago des Herrera\n",
      "add_consonant_final_r: Luz Meryr Buitrago de Herrera\n",
      "add_consonant_final_z: Luz Mery Buitragoz de Herrera\n",
      "add_consonant_uncommon: Luz Meryy Buitrago de Herrera\n",
      "add_consonant_double: Luz Mery Buitrrago de Herrera\n",
      "add_special_character_apostrophe: Luz Mery B'uitrago de Herrera\n",
      "add_special_character_accent: Luz Mery Buitrágo de Herrera\n"
     ]
    }
   ],
   "source": [
    "name = \"Luz Mery Buitrago de Herrera\"\n",
    "print(\"add_spc_in_letters: \" + add_spc_in_letters(name))\n",
    "print(\"add_al_and_hyphen: \" + add_al_and_hyphen(name))\n",
    "print(\"add_Al_and_space: \" + add_Al_and_space(name))\n",
    "print(\"add_El_and_space: \" + add_El_and_space(name))\n",
    "print(\"add_vowel: \" + add_vowel(name))\n",
    "print(\"add_h_before_vowel: \" + add_h_before_vowel(name))\n",
    "print(\"add_consonant_final_s: \" + add_consonant_final_s(name))\n",
    "print(\"add_consonant_final_r: \" + add_consonant_final_r(name))\n",
    "print(\"add_consonant_final_z: \" + add_consonant_final_z(name))\n",
    "print(\"add_consonant_uncommon: \" + add_consonant_uncommon(name))\n",
    "print(\"add_consonant_double: \" + add_consonant_double(name))\n",
    "print(\"add_special_character_apostrophe: \" + add_special_character_apostrophe(name))\n",
    "print(\"add_special_character_accent: \" + add_special_character_accent(name))"
   ]
  },
  {
   "cell_type": "markdown",
   "metadata": {},
   "source": [
    "[Back to Variation Categories](#Variation-Categories)"
   ]
  },
  {
   "cell_type": "markdown",
   "metadata": {},
   "source": [
    "### Character Replacement"
   ]
  },
  {
   "cell_type": "markdown",
   "metadata": {},
   "source": [
    "* phonetic_replacement: s$\\rightarrow$z, z$\\rightarrow$s, s$\\rightarrow$c, c$\\rightarrow$s, c$\\rightarrow$z, z$\\rightarrow$c, u$\\rightarrow$o, o$\\rightarrow$u, ua$\\rightarrow$o, o$\\rightarrow$ua, ph$\\rightarrow$f, f$\\rightarrow$ph, y$\\rightarrow$i ,i$\\rightarrow$y, d$\\rightarrow$th, t$\\rightarrow$d, v$\\rightarrow$w, w$\\rightarrow$v, k$\\rightarrow$q, q$\\rightarrow$k, v$\\rightarrow$b, b$\\rightarrow$v, a$\\rightarrow$e, e$\\rightarrow$a, x$\\rightarrow$j, j$\\rightarrow$x, v$\\rightarrow$f, f$\\rightarrow$v, c$\\rightarrow$k, k$\\rightarrow$c \n",
    "\n",
    "* typographic_error: t$\\rightarrow$y, y$\\rightarrow$t, o$\\rightarrow$p, p$\\rightarrow$o, d$\\rightarrow$e, e$\\rightarrow$d, f$\\rightarrow$d, d$\\rightarrow$f, r$\\rightarrow$f, f$\\rightarrow$r, e$\\rightarrow$r, r$\\rightarrow$e\n",
    "\n",
    "* alphabet_alternative: n$\\rightarrow$ñ, ñ$\\rightarrow$n\n",
    "\n",
    "* character_replacement_uncommon: random character replacement not consider in previous cases\n",
    "\n",
    " "
   ]
  },
  {
   "cell_type": "code",
   "execution_count": 8,
   "metadata": {},
   "outputs": [],
   "source": [
    "phonetic_replacements = [(\"s\",\"z\") , (\"z\",\"s\") , (\"s\",\"c\"), (\"c\",\"s\") , (\"c\",\"z\"),\n",
    "                        (\"z\",\"c\") , (\"u\",\"o\") , (\"o\",\"u\"), (\"ua\",\"o\"), (\"o\",\"ua\"),\n",
    "                        (\"ph\",\"f\"), (\"f\",\"ph\"), (\"y\",\"i\"), (\"i\",\"y\") , (\"d\",\"th\"), \n",
    "                        (\"t\",\"d\") , (\"v\",\"w\") , (\"w\",\"v\"), (\"k\",\"q\") , (\"q\",\"k\"), \n",
    "                        (\"v\",\"b\") , (\"b\",\"v\") , (\"a\",\"e\"), (\"e\",\"a\") , (\"x\",\"j\"), \n",
    "                        (\"j\",\"x\") , (\"v\",\"f\") , (\"f\",\"v\"), (\"c\",\"k\") , (\"k\",\"c\")]      \n",
    "\n",
    "typographic_errors = [(\"t\",\"y\"), (\"y\",\"t\"), (\"o\",\"p\"), (\"p\",\"o\"), \n",
    "                          (\"d\",\"e\"), (\"e\",\"d\"), (\"f\",\"d\"), (\"d\",\"f\"),\n",
    "                          (\"r\",\"f\"), (\"f\",\"r\"), (\"e\",\"r\"), (\"r\",\"e\"),\n",
    "                          (\"r\",\"t\"), (\"t\",\"r\")]\n",
    "\n",
    "alphabet_alternatives = [(\"n\",\"ñ\"), (\"ñ\",\"n\")]\n",
    "\n",
    "already_used_permutations = phonetic_replacements + typographic_errors + alphabet_alternatives\n",
    "potential_comb = set(list(permutations(string.ascii_lowercase,2)))\n",
    "uncommon_replacements = potential_comb.difference(already_used_permutations)\n",
    "\n",
    "def phonetic_replacement(name):\n",
    "    '''Selects a letter at random and replace it with a similar phonetic letter'''\n",
    "        \n",
    "    # Check if potential replacements, otherwise return original name\n",
    "    pr = set([x[0] for x in phonetic_replacements]) #potential replacements\n",
    "    if len([x for x in name if x in pr])==0:\n",
    "        return name\n",
    "    \n",
    "    # Choose a character that it is a candidate phonetic replacement\n",
    "    rci = np.random.choice([i for i,j in enumerate(name)\n",
    "                            if j.lower() in pr]) #randomnly chosen index   \n",
    "    \n",
    "    # Find potential character replacements\n",
    "    ptr = [x[1] for x in phonetic_replacements\n",
    "                       if x[0]==name[rci].lower()] #potential to replace\n",
    "\n",
    "    # Replace the character to a random phonetic replacement\n",
    "    if name[rci].islower():\n",
    "        \n",
    "        return name[:rci] + np.random.choice(ptr) + name[rci+1:]\n",
    "    else:\n",
    "        return name[:rci] + np.random.choice(ptr).upper() + name[rci+1:]\n",
    "\n",
    "def typographic_error(name):\n",
    "    '''Selects a letter at random and replace it with a potential typographic error'''\n",
    "    \n",
    "    # Check if potential replacements, otherwise return original name\n",
    "    pr = set([x[0] for x in typographic_errors]) #potential replacements\n",
    "    if len([x for x in name if x in pr])==0:\n",
    "        return name\n",
    "    \n",
    "    # Choose a character that it is a candidate typographic_error\n",
    "    rci = np.random.choice([i for i,j in enumerate(name)\n",
    "                            if j.lower() in pr]) #randomnly chosen index   \n",
    "\n",
    "    # Find potential character replacements\n",
    "    ptr = [x[1] for x in typographic_errors\n",
    "                       if x[0]==name[rci].lower()] #potential to replace\n",
    "\n",
    "    # Replace the character to a random typographic error\n",
    "    if name[rci].islower():\n",
    "        return name[:rci] + np.random.choice(ptr) + name[rci+1:]\n",
    "    else:\n",
    "        return name[:rci] + np.random.choice(ptr).upper() + name[rci+1:]\n",
    "    \n",
    "def alphabet_alternative(name):\n",
    "    '''Selects a letter at random and replace it with a potential typographic error'''\n",
    "\n",
    "    # Check if potential replacements, otherwise return original name\n",
    "    pr = set([x[0] for x in alphabet_alternatives]) #potential replacements\n",
    "    if len([x for x in name if x in pr])==0:\n",
    "        return name\n",
    "        \n",
    "    # Choose a character that it is a candidate alphabet_alternative\n",
    "    rci = np.random.choice([i for i,j in enumerate(name)\n",
    "                            if j.lower() in pr]) #randomnly chosen index\n",
    "    \n",
    "    # Find potential character replacements\n",
    "    ptr = [x[1] for x in alphabet_alternatives\n",
    "                       if x[0]==name[rci].lower()] #potential to replace\n",
    "    \n",
    "    # Replace the character to a random alphabet alternative\n",
    "    if name[rci].islower():\n",
    "        return name[:rci] + np.random.choice(ptr) + name[rci+1:]\n",
    "    else:\n",
    "        return name[:rci] + np.random.choice(ptr).upper() + name[rci+1:]\n",
    "    \n",
    "def character_replacement_uncommon(name):\n",
    "        # Check if potential replacements, otherwise return original name\n",
    "    pr = set([x[0] for x in uncommon_replacements]) #potential replacements\n",
    "    if len([x for x in name if x in pr])==0:\n",
    "        return name\n",
    "        \n",
    "    # Choose a character that it is a candidate alphabet_alternative\n",
    "    rci = np.random.choice([i for i,j in enumerate(name)\n",
    "                            if j.lower() in pr]) #randomnly chosen index\n",
    "    \n",
    "    # Find potential character replacements\n",
    "    ptr = [x[1] for x in uncommon_replacements\n",
    "                       if x[0]==name[rci].lower()] #potential to replace\n",
    "    \n",
    "    # Replace the character to a random uncommon replacements\n",
    "    if name[rci].islower():\n",
    "        return name[:rci] + np.random.choice(ptr) + name[rci+1:]\n",
    "    else:\n",
    "        return name[:rci] + np.random.choice(ptr).upper() + name[rci+1:]"
   ]
  },
  {
   "cell_type": "code",
   "execution_count": 9,
   "metadata": {},
   "outputs": [
    {
     "name": "stdout",
     "output_type": "stream",
     "text": [
      "phonetic_replacement: Loz Mery Buitrago de Herrera\n",
      "typographic_error: Luz Mery Buiyrago de Herrera\n",
      "alphabet_alternative: Luz Mery Buitrago de Herrera\n",
      "character_replacement_uncommon: Luz Mery Buitrago de Hsrrera\n"
     ]
    }
   ],
   "source": [
    "print(\"phonetic_replacement: \"+ phonetic_replacement(name))\n",
    "print(\"typographic_error: \"   + typographic_error(name))\n",
    "print(\"alphabet_alternative: \"+ alphabet_alternative(name))\n",
    "print(\"character_replacement_uncommon: \"+character_replacement_uncommon(name))"
   ]
  },
  {
   "cell_type": "markdown",
   "metadata": {},
   "source": [
    "\n",
    "[Back to Variation Categories](#Variation-Categories)"
   ]
  },
  {
   "cell_type": "markdown",
   "metadata": {},
   "source": [
    "### Character Reduction"
   ]
  },
  {
   "cell_type": "markdown",
   "metadata": {},
   "source": [
    "* phonetic_miss:\n",
    "    * remove_h: FADLALLAH, Shaykh Muhammad Husayn -> Saykh Muhammad Husayn Fadlallah\n",
    "    * remove_c_before_k: CHINAMASA, Patrick -> Patrik Chinamasa\n",
    "    * remove_e_before_s: ESPARRAGOZA MORENO, Juan Jose -> Juan Jose Sparragoza Moreno\n",
    "    * remove_final_s: AL-MUHAMMAD, Khamis Sirhan -> Khami Sirhan al-Muhammad\n",
    "    * remove_final_z: MENDEZ SALAZAR, John Jairo -> John Jairo Mende Salazar\n",
    "    * remove_final_d: SIEIRO DE NORIEGA, Felicidad -> Felicidad Sieiro de Noriega\n",
    "* character_reduction_uncommon"
   ]
  },
  {
   "cell_type": "code",
   "execution_count": 10,
   "metadata": {},
   "outputs": [],
   "source": [
    "def remove_h(name):\n",
    "    ''' If name has h remove one at random, otherwise return same name '''\n",
    "    if \"h\" in name: \n",
    "        rci = np.random.choice([i for i,j in enumerate(name)\n",
    "                                if j.lower() == \"h\"]) #randomnly chosen index\n",
    "        return name[0:rci:] + name[rci+1::]\n",
    "    else:\n",
    "        return name\n",
    "    \n",
    "def remove_c_before_k(name):\n",
    "    ''' If c before k, it removes c, otherwise return same name '''\n",
    "    if \"ck\" in name:\n",
    "        return name.replace(\"ck\",\"k\")\n",
    "    if \"Ck\" in name:\n",
    "        return name.replace(\"Ck\",\"K\")\n",
    "    else:\n",
    "        return name\n",
    "\n",
    "def remove_e_before_s(name):\n",
    "    ''' If c before k, it removes c, otherwise return same name '''\n",
    "    if \"es\" in name:\n",
    "        return name.replace(\"es\",\"s\")\n",
    "    if \"Es\" in name:\n",
    "        return name.replace(\"Es\",\"S\")\n",
    "    else:\n",
    "        return name\n",
    "    \n",
    "def remove_final_s(name):\n",
    "    '''Remove \"s\" if at the end of a name element'''\n",
    "    name_elements = name.split(\" \")\n",
    "    ees = [x for x in name_elements if x[-1]==\"s\"] #elements ending in \"s\"\n",
    "    if ees:\n",
    "        etrs = np.random.choice(ees) #element to remove \"s\"\n",
    "        return name.replace(etrs,etrs[:-1])\n",
    "    else:\n",
    "        return name\n",
    "    \n",
    "def remove_final_z(name):\n",
    "    '''Remove \"z\" if at the end of a name element'''\n",
    "    name_elements = name.split(\" \")\n",
    "    ees = [x for x in name_elements if x[-1]==\"z\"] #elements ending in \"z\"\n",
    "    if ees:\n",
    "        etrs = np.random.choice(ees) #element to remove \"z\"\n",
    "        return name.replace(etrs,etrs[:-1])\n",
    "    else:\n",
    "        return name\n",
    "    \n",
    "def remove_final_d(name):\n",
    "    '''Remove \"d\" if at the end of a name element'''\n",
    "    name_elements = name.split(\" \")\n",
    "    ees = [x for x in name_elements if x[-1]==\"d\"] #elements ending in \"d\"\n",
    "    if ees:\n",
    "        etrs = np.random.choice(ees) #element to remove \"d\"\n",
    "        return name.replace(etrs,etrs[:-1])\n",
    "    else:\n",
    "        return name\n",
    "    \n",
    "def character_reduction_uncommon(name):\n",
    "    '''Remove a character at random'''\n",
    "    ccitr = [i for i,j in enumerate(name) if j!=\" \"] #candidate character index to remove\n",
    "    citr  = np.random.choice(ccitr) #character index to remove\n",
    "    return name[0:citr:] + name[citr+1::]"
   ]
  },
  {
   "cell_type": "code",
   "execution_count": 11,
   "metadata": {},
   "outputs": [
    {
     "name": "stdout",
     "output_type": "stream",
     "text": [
      "remove_h: Maria Chickenz Espains Chad\n",
      "remove_c_before_k: Mariah Chikenz Espains Chad\n",
      "remove_e_before_s: Mariah Chickenz Spains Chad\n",
      "remove_final_s: Mariah Chickenz Espain Chad\n",
      "remove_final_z: Mariah Chicken Espains Chad\n",
      "remove_final_d: Mariah Chickenz Espains Cha\n",
      "character_reduction_uncommon: Mariah Chickenz spains Chad\n"
     ]
    }
   ],
   "source": [
    "name = \"Mariah Chickenz Espains Chad\"\n",
    "print(\"remove_h: \"           + remove_h(name))\n",
    "print(\"remove_c_before_k: \"  + remove_c_before_k(name))\n",
    "print(\"remove_e_before_s: \"  + remove_e_before_s(name))\n",
    "print(\"remove_final_s: \"     + remove_final_s(name))\n",
    "print(\"remove_final_z: \"     + remove_final_z(name))\n",
    "print(\"remove_final_d: \"     + remove_final_d(name))\n",
    "print(\"character_reduction_uncommon: \"     + character_reduction_uncommon(name))"
   ]
  },
  {
   "cell_type": "markdown",
   "metadata": {},
   "source": [
    "\n",
    "[Back to Variation Categories](#Variation-Categories)"
   ]
  },
  {
   "cell_type": "markdown",
   "metadata": {},
   "source": [
    "### Transposition"
   ]
  },
  {
   "cell_type": "markdown",
   "metadata": {},
   "source": [
    "* phonetic_transposition: (ed$\\rightarrow$de, de$\\rightarrow$ed, ei$\\rightarrow$ie, ie$\\rightarrow$ei, ae$\\rightarrow$ea, ea$\\rightarrow$ae)\n",
    "* transposition_uncommon:"
   ]
  },
  {
   "cell_type": "code",
   "execution_count": 12,
   "metadata": {},
   "outputs": [],
   "source": [
    "phonetic_transpositions = [(\"ed\",\"de\"),(\"de\",\"ed\"),\n",
    "                           (\"ei\",\"ie\"),(\"ie\",\"ei\"),\n",
    "                           (\"ae\",\"ea\"),(\"ea\",\"ae\")]\n",
    "potential_permutations = set(list(permutations([\"a\",\"e\",\"i\",\"o\",\"u\"],2))) # n* (n-1)\n",
    "potential_transpositions = set([(x[0]+x[1],x[1]+x[0]) for x in potential_permutations])\n",
    "uncommon_transpositions = potential_transpositions.difference(phonetic_transpositions)\n",
    "\n",
    "def phonetic_transposition(name):\n",
    "    '''Perform common phonetic transpositions'''\n",
    "    pt = [(i,j) for i,j in [x for x in phonetic_transpositions if x[0] in name]] #potential traspositions\n",
    "    if pt:\n",
    "        i = np.random.choice([i for i,j in enumerate(pt)])\n",
    "        return name.replace(pt[i][0],pt[i][1])\n",
    "    else:\n",
    "        return name\n",
    "    \n",
    "def transposition_uncommon(name):\n",
    "    '''Perform uncommon phonetic transpositions'''\n",
    "    pt = [(i,j) for i,j in uncommon_transpositions\n",
    "                        if i in name] #potential traspositions\n",
    "    if pt:\n",
    "        i = np.random.choice([i for i,j in enumerate(pt)])\n",
    "        return name.replace(pt[i][0],pt[i][1])\n",
    "    else:\n",
    "        return name"
   ]
  },
  {
   "cell_type": "code",
   "execution_count": 13,
   "metadata": {
    "scrolled": false
   },
   "outputs": [
    {
     "name": "stdout",
     "output_type": "stream",
     "text": [
      "phonetic_transposition: Marde Marea Mue\n",
      "transposition_uncommon: Mared Marea Meu\n"
     ]
    }
   ],
   "source": [
    "name = \"Mared Marea Mue\"\n",
    "print(\"phonetic_transposition: \" + phonetic_transposition(name))\n",
    "print(\"transposition_uncommon: \" + transposition_uncommon(name))"
   ]
  },
  {
   "cell_type": "markdown",
   "metadata": {},
   "source": [
    "<font color=\"red\"><b>It is currently transposing only vowels. We may want to have two functions. One to transpose vowels and other to transpose consonants."
   ]
  },
  {
   "cell_type": "markdown",
   "metadata": {},
   "source": [
    "\n",
    "[Back to Variation Categories](#Variation-Categories)"
   ]
  },
  {
   "cell_type": "markdown",
   "metadata": {},
   "source": [
    "### Double Characters"
   ]
  },
  {
   "cell_type": "markdown",
   "metadata": {},
   "source": [
    "* double_character_reduction: MENDEZ SALAZZAR, John Jairo -> John Jair Mendez Salazar\n",
    "* double_character_insertion: AL-AWADI, Husein Qaid -> Hussein Qaid al-Waadi"
   ]
  },
  {
   "cell_type": "code",
   "execution_count": 14,
   "metadata": {},
   "outputs": [],
   "source": [
    "def double_character_reduction(name):\n",
    "    '''Finds double characters and removes one of the two characters'''\n",
    "    double_characters_reps = [x+x for x in string.ascii_lowercase]\n",
    "    pdcr = [dcr for dcr in double_characters_reps if dcr in name]\n",
    "    if pdcr:\n",
    "        ci = np.random.choice([i for i,j in enumerate(pdcr)])\n",
    "        return name.replace(pdcr[ci], pdcr[ci][1])\n",
    "    else:\n",
    "        return name\n",
    "\n",
    "def double_character_insertion(name):\n",
    "    '''Takes any character at random and doubles it'''\n",
    "    ci = np.random.choice([i for i,j in enumerate(name) if j!= \" \"])\n",
    "    return name[:ci] + name[ci] + name[ci:]"
   ]
  },
  {
   "cell_type": "code",
   "execution_count": 15,
   "metadata": {
    "scrolled": true
   },
   "outputs": [
    {
     "name": "stdout",
     "output_type": "stream",
     "text": [
      "double_character_reduction: Mmaria Parales Meeting\n",
      "double_character_insertion: Mmaria Paarrales Meeting\n"
     ]
    }
   ],
   "source": [
    "name = \"Mmaria Parrales Meeting\"\n",
    "print(\"double_character_reduction: \" +  double_character_reduction(name))\n",
    "print(\"double_character_insertion: \" +  double_character_insertion(name))"
   ]
  },
  {
   "cell_type": "markdown",
   "metadata": {},
   "source": [
    "\n",
    "[Back to Variation Categories](#Variation-Categories)"
   ]
  },
  {
   "cell_type": "markdown",
   "metadata": {},
   "source": [
    "### Spaces"
   ]
  },
  {
   "cell_type": "markdown",
   "metadata": {},
   "source": [
    "* space_reduction: MENDEZ SALAZAR, John Jairo -> John Jairo MendezSalazar\n",
    "* space_insertion: MENDEZ SALAZAR, John Jairo -> John Jairo Salazar Men dez"
   ]
  },
  {
   "cell_type": "code",
   "execution_count": 16,
   "metadata": {},
   "outputs": [],
   "source": [
    "def spaces_reduction(name):\n",
    "    '''Deletes a space randomly in the string'''\n",
    "    if len(name)>1:\n",
    "        ci = np.random.choice([i for i,j in enumerate(name) if j== \" \"])\n",
    "        return name[:ci] + name[ci+1:]\n",
    "    else:\n",
    "        return name\n",
    "\n",
    "def spaces_insertion(name):\n",
    "    '''Inserts a space randomly in the string'''\n",
    "    ci = np.random.choice([i for i,j in enumerate(name) if j!= \" \"])\n",
    "    return name[:ci] + \" \" + name[ci:]"
   ]
  },
  {
   "cell_type": "code",
   "execution_count": 17,
   "metadata": {},
   "outputs": [
    {
     "name": "stdout",
     "output_type": "stream",
     "text": [
      "spaces_reduction: MmariaParrales Meeting\n",
      "spaces_insertion: Mmaria  Parrales Meeting\n"
     ]
    }
   ],
   "source": [
    "name = \"Mmaria Parrales Meeting\"\n",
    "print(\"spaces_reduction: \" +  spaces_reduction(name))\n",
    "print(\"spaces_insertion: \" +  spaces_insertion(name))"
   ]
  },
  {
   "cell_type": "markdown",
   "metadata": {},
   "source": [
    "\n",
    "[Back to Variation Categories](#Variation-Categories)"
   ]
  },
  {
   "cell_type": "markdown",
   "metadata": {},
   "source": [
    "### Name Order"
   ]
  },
  {
   "cell_type": "markdown",
   "metadata": {},
   "source": [
    "<font color=\"red\"><b>Pending transposition_name</font> \n",
    "* transposition_name: MENDEZ SALAZAR, John Jairo -> Salazar John Mendez Jairo \n",
    "* random_name_transposition: MENDEZ SALAZAR, John Jairo -> Salazar John Mendez Jairo "
   ]
  },
  {
   "cell_type": "code",
   "execution_count": 18,
   "metadata": {},
   "outputs": [],
   "source": [
    "def transposition_name(name):\n",
    "    '''Transposes two elements of the name at random'''\n",
    "    name_elements = name.split(\" \")\n",
    "    if len(name_elements)==1:\n",
    "        return name\n",
    "    elif len(name_elements)==2:\n",
    "        return name_elements[1] + \" \" + name_elements[0]\n",
    "    else:\n",
    "        pass #PENDING\n",
    "    \n",
    "def random_name_transposition(name):\n",
    "    '''Suffles name order at random'''\n",
    "    name_elements_original = name.split(\" \")\n",
    "    name_elements_shuffle = name.split(\" \")\n",
    "    if len(name_elements_original)>=2:\n",
    "        while name_elements_shuffle == name_elements_original:\n",
    "            np.random.shuffle(name_elements_shuffle)\n",
    "        return \" \".join(name_elements_shuffle)\n",
    "    else:\n",
    "        return name"
   ]
  },
  {
   "cell_type": "code",
   "execution_count": 19,
   "metadata": {
    "scrolled": true
   },
   "outputs": [
    {
     "name": "stdout",
     "output_type": "stream",
     "text": [
      "random_name_transposition: Name3 Name1 Name2\n"
     ]
    }
   ],
   "source": [
    "name = \"Name1 Name3 Name2\"\n",
    "print(\"random_name_transposition: \" + random_name_transposition(name))"
   ]
  },
  {
   "cell_type": "markdown",
   "metadata": {},
   "source": [
    "\n",
    "[Back to Variation Categories](#Variation-Categories)"
   ]
  },
  {
   "cell_type": "markdown",
   "metadata": {},
   "source": [
    "[Back to index](#Index)"
   ]
  },
  {
   "cell_type": "markdown",
   "metadata": {},
   "source": [
    "### Titles"
   ]
  },
  {
   "cell_type": "markdown",
   "metadata": {},
   "source": [
    "* title_insertion: MENDEZ SALAZAR, John Jairo -> Mr. John Jairo Salazar Mendez \n",
    "* title_removal: MENDEZ SALAZAR, MR.John Jairo -> John Jairo Salazar Mendez "
   ]
  },
  {
   "cell_type": "code",
   "execution_count": 20,
   "metadata": {},
   "outputs": [],
   "source": [
    "titles = [\"Mr. \",\"Mr \",\"Mrs. \",\"Mrs \",\"Mx. \", \"Mx \", \"Ms. \",\"Ms \",\"Miss \",\"Madam \"]\n",
    "def title_insertion(name):\n",
    "    '''Adds title at the beginning of the name'''\n",
    "    title = np.random.choice(titles)\n",
    "    return title + name\n",
    "\n",
    "def title_removal(name):\n",
    "    '''Removes title if present'''\n",
    "    if [x for x in titles if x in name]:\n",
    "        for t in titles:\n",
    "            name = name.replace(t,\"\")\n",
    "    return name"
   ]
  },
  {
   "cell_type": "code",
   "execution_count": 21,
   "metadata": {},
   "outputs": [
    {
     "name": "stdout",
     "output_type": "stream",
     "text": [
      "title_insertion: Miss Javier Pérez González\n",
      "title_insertion: Juan Pérez González\n"
     ]
    }
   ],
   "source": [
    "name = \"Javier Pérez González\"\n",
    "print(\"title_insertion: \" +  title_insertion(name))\n",
    "name = \"Mr. Juan Pérez González\"\n",
    "print(\"title_insertion: \" + title_removal(name))"
   ]
  },
  {
   "cell_type": "markdown",
   "metadata": {},
   "source": [
    "\n",
    "[Back to Variation Categories](#Variation-Categories)"
   ]
  },
  {
   "cell_type": "markdown",
   "metadata": {},
   "source": [
    "### Missing Name Component"
   ]
  },
  {
   "cell_type": "code",
   "execution_count": 22,
   "metadata": {},
   "outputs": [],
   "source": [
    "def name_component_deletion(name):\n",
    "    '''Deletes one element at random if name has more than one element'''\n",
    "    name_elements = name.split(\" \")\n",
    "    if len(name_elements)>1:\n",
    "        element_to_delete = np.random.choice(name_elements)\n",
    "        return \" \".join([x for x in name.split(\" \") if x != element_to_delete])\n",
    "    else:\n",
    "        return name"
   ]
  },
  {
   "cell_type": "code",
   "execution_count": 23,
   "metadata": {},
   "outputs": [
    {
     "data": {
      "text/plain": [
       "'Pepe'"
      ]
     },
     "execution_count": 23,
     "metadata": {},
     "output_type": "execute_result"
    }
   ],
   "source": [
    "name = \"Javier Pérez González\"\n",
    "name_component_deletion(\"Pepe\")"
   ]
  },
  {
   "cell_type": "markdown",
   "metadata": {},
   "source": [
    "\n",
    "[Back to Variation Categories](#Variation-Categories)"
   ]
  },
  {
   "cell_type": "markdown",
   "metadata": {},
   "source": [
    "### Also Known As"
   ]
  },
  {
   "cell_type": "markdown",
   "metadata": {},
   "source": [
    "<font color=\"red\"><b>Pending<br /></font> \n",
    "<font color=\"red\"><b>TODO:</font> \n",
    "<li><font color=\"red\"><b>Create a dictionary of AKAs. Use OFAC list for this.</font> </li>"
   ]
  },
  {
   "cell_type": "markdown",
   "metadata": {},
   "source": [
    "\n",
    "[Back to Variation Categories](#Variation-Categories)"
   ]
  },
  {
   "cell_type": "markdown",
   "metadata": {},
   "source": [
    "[Back to index](#Index)"
   ]
  }
 ],
 "metadata": {
  "kernelspec": {
   "display_name": "Python 3",
   "language": "python",
   "name": "python3"
  },
  "language_info": {
   "codemirror_mode": {
    "name": "ipython",
    "version": 3
   },
   "file_extension": ".py",
   "mimetype": "text/x-python",
   "name": "python",
   "nbconvert_exporter": "python",
   "pygments_lexer": "ipython3",
   "version": "3.7.4"
  }
 },
 "nbformat": 4,
 "nbformat_minor": 2
}
